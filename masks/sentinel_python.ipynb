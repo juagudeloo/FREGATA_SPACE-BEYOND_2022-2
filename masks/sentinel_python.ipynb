{
 "cells": [
  {
   "cell_type": "code",
   "execution_count": 21,
   "id": "d13477a4-9584-453d-87ac-84ca7262aee4",
   "metadata": {},
   "outputs": [],
   "source": [
    "import cv2\n",
    "import matplotlib.pyplot as plt\n",
    "import numpy as np\n",
    "from mpl_toolkits.axes_grid1 import make_axes_locatable"
   ]
  },
  {
   "cell_type": "code",
   "execution_count": 23,
   "id": "3914f31f-c561-4873-9d73-cbfdf1589268",
   "metadata": {},
   "outputs": [],
   "source": [
    "granule_path = \"S2B_MSIL1C_20221102T153619_N0400_R068_T18PVS_20221102T190541.SAFE/GRANULE/L1C_T18PVS_A029552_20221102T153616/IMG_DATA/\"\n",
    "\n",
    "sentinel_img = {\"B01\": \"S2B_MSIL1C_20221102T153619_N0400_R068_T18PVS_20221102T190541.SAFE/GRANULE/L1C_T18PVS_A029552_20221102T153616/IMG_DATA/T18PVS_20221102T153619_B01.jp2\",\n",
    "                        \"B02\": \"S2B_MSIL1C_20221102T153619_N0400_R068_T18PVS_20221102T190541.SAFE/GRANULE/L1C_T18PVS_A029552_20221102T153616/IMG_DATA/T18PVS_20221102T153619_B02.jp2\",\n",
    "                        \"B03\": \"S2B_MSIL1C_20221102T153619_N0400_R068_T18PVS_20221102T190541.SAFE/GRANULE/L1C_T18PVS_A029552_20221102T153616/IMG_DATA/T18PVS_20221102T153619_B03.jp2\",\n",
    "                        \"B04\": \"S2B_MSIL1C_20221102T153619_N0400_R068_T18PVS_20221102T190541.SAFE/GRANULE/L1C_T18PVS_A029552_20221102T153616/IMG_DATA/T18PVS_20221102T153619_B04.jp2\",\n",
    "                        \"B05\": \"S2B_MSIL1C_20221102T153619_N0400_R068_T18PVS_20221102T190541.SAFE/GRANULE/L1C_T18PVS_A029552_20221102T153616/IMG_DATA/T18PVS_20221102T153619_B05.jp2\",\n",
    "                        \"B06\": \"S2B_MSIL1C_20221102T153619_N0400_R068_T18PVS_20221102T190541.SAFE/GRANULE/L1C_T18PVS_A029552_20221102T153616/IMG_DATA/T18PVS_20221102T153619_B06.jp2\",\n",
    "                        \"B07\": \"S2B_MSIL1C_20221102T153619_N0400_R068_T18PVS_20221102T190541.SAFE/GRANULE/L1C_T18PVS_A029552_20221102T153616/IMG_DATA/T18PVS_20221102T153619_B07.jp2\",\n",
    "                        \"B08\": \"S2B_MSIL1C_20221102T153619_N0400_R068_T18PVS_20221102T190541.SAFE/GRANULE/L1C_T18PVS_A029552_20221102T153616/IMG_DATA/T18PVS_20221102T153619_B08.jp2\",\n",
    "                        \"B8A\": \"S2B_MSIL1C_20221102T153619_N0400_R068_T18PVS_20221102T190541.SAFE/GRANULE/L1C_T18PVS_A029552_20221102T153616/IMG_DATA/T18PVS_20221102T153619_B8A.jp2\",\n",
    "                        \"B09\": \"S2B_MSIL1C_20221102T153619_N0400_R068_T18PVS_20221102T190541.SAFE/GRANULE/L1C_T18PVS_A029552_20221102T153616/IMG_DATA/T18PVS_20221102T153619_B09.jp2\",\n",
    "                        \"B10\": \"S2B_MSIL1C_20221102T153619_N0400_R068_T18PVS_20221102T190541.SAFE/GRANULE/L1C_T18PVS_A029552_20221102T153616/IMG_DATA/T18PVS_20221102T153619_B10.jp2\",\n",
    "                        \"B11\": \"S2B_MSIL1C_20221102T153619_N0400_R068_T18PVS_20221102T190541.SAFE/GRANULE/L1C_T18PVS_A029552_20221102T153616/IMG_DATA/T18PVS_20221102T153619_B11.jp2\",\n",
    "                        \"B12\": \"S2B_MSIL1C_20221102T153619_N0400_R068_T18PVS_20221102T190541.SAFE/GRANULE/L1C_T18PVS_A029552_20221102T153616/IMG_DATA/T18PVS_20221102T153619_B12.jp2\",\n",
    "                        \"TCI\": \"S2B_MSIL1C_20221102T153619_N0400_R068_T18PVS_20221102T190541.SAFE/GRANULE/L1C_T18PVS_A029552_20221102T153616/IMG_DATA/T18PVS_20221102T153619_TCI.jp2\"}\n",
    "\n",
    "\n",
    "for key in sentinel_img.keys():\n",
    "    sentinel_img[key] = cv2.imread(sentinel_img[key], 0)/1e4"
   ]
  },
  {
   "cell_type": "markdown",
   "id": "a8f295ad-d2a1-472c-b0a5-f86d4ea689e5",
   "metadata": {},
   "source": [
    "Sentinel-2 Level 1C imagery upon download from Copernicus is in Top of Atmosphere (TOA) reflectance integer units, which makes conversion to surface reflectance quite simple. Divide any band by 10,000 with the Raster Calculator to convert the TOA four-digit integer raster to TOA reflectance units (reflectance units x 100 = reflectance percent). You may need to first convert the raster to a floating point prior to this step, or the division process may automatically convert the new raster to floating point (depends on the GIS software). A simple way to convert to a floating point raster in ArcGIS is to multiply it by 1.0 (though there is a integer to floating point tool). Surface reflectance is calculated by deducting scatter reflectance (described in later steps) from TOA reflectance (https://www.gisagmaps.com/s2-atmospheric-correction\n",
    ").\n"
   ]
  },
  {
   "cell_type": "code",
   "execution_count": null,
   "id": "924890d8-642d-496f-99ae-53e6a8d60b6d",
   "metadata": {},
   "outputs": [
    {
     "name": "stdout",
     "output_type": "stream",
     "text": [
      "['B01', 'B02', 'B03', 'B04', 'B05', 'B06', 'B07', 'B08', 'B8A', 'B09', 'B10', 'B11', 'B12', 'TCI']\n"
     ]
    }
   ],
   "source": [
    "N = len(sentinel_img)\n",
    "\n",
    "fig, ax = plt.subplots(N, figsize = (14, 14*N))\n",
    "canal_type = list(sentinel_img)\n",
    "\n",
    "print(canal_type)\n",
    "\n",
    "for i in range(N):\n",
    "    axe = ax[i]\n",
    "    pcm = axe.imshow(sentinel_img[canal_type[i]])\n",
    "    axe.set_title(canal_type[i])\n",
    "    fig.colorbar(pcm, ax=axe)\n",
    "\n",
    "plt.show()\n",
    "\n",
    "\n",
    "fig, ax = plt.subplots(figsize = (7,7))\n",
    "ax.imshow(sentinel_img[\"TCI\"])"
   ]
  },
  {
   "cell_type": "markdown",
   "id": "2ca27854-8f13-47dd-a379-d6732dc6b73a",
   "metadata": {},
   "source": [
    "#### **For Landsat**\n",
    "\n",
    "{<center>PCP = Basic Test (true) and Whiteness Test (true) and HOT test (true) and B4/B5 Test (true)<center/>}\n",
    "\n",
    "    \n",
    "#### **For Sentinel 2 (or at least as I interpreted it)**\n",
    "    \n",
    "{<center>PCP = Cirrus test (true) and Whiteness Test (true) and HOT test (true) and B4/B5 Test (true)<center/>}\n",
    "\n",
    "    \n",
    "##### **Tests:**\n",
    "    \n",
    "1. Cirrus test = Band 10 > 0.01 .\n",
    "2. Whiteness Test = $\\sum_{i=2}^4$|(Band i - Mean Vis)| < 0.7.       \n",
    "- MeanVis = (Band 2 + Band 3 + Band 4)/3\n",
    "                                  \n",
    "                                                       \n",
    "3. HOT Test = Band 2 - 0.5$\\cdot$ Band 4 - 0,08 > 0\n",
    "4. B4/B5 Test = Band 8/Band 11 > 0.75"
   ]
  },
  {
   "cell_type": "code",
   "execution_count": null,
   "id": "974a8b92-854f-49b0-8347-67350c370d25",
   "metadata": {},
   "outputs": [],
   "source": [
    "# We are not including the Basic test in the PCP beacuse we have no\n",
    "# thermal band in Sentinel 1 or 2\n",
    "\n",
    "Cirrus_test = np.ma.masked_where(sentinel_img[\"B10\"] > 0.1, sentinel_img[\"B10\"]).mask\n",
    "fig, ax = plt.subplots(figsize = (7,7))\n",
    "ax.imshow(sentinel_img[\"B10\"])"
   ]
  }
 ],
 "metadata": {
  "kernelspec": {
   "display_name": "Python 3 (ipykernel)",
   "language": "python",
   "name": "python3"
  },
  "language_info": {
   "codemirror_mode": {
    "name": "ipython",
    "version": 3
   },
   "file_extension": ".py",
   "mimetype": "text/x-python",
   "name": "python",
   "nbconvert_exporter": "python",
   "pygments_lexer": "ipython3",
   "version": "3.9.12"
  }
 },
 "nbformat": 4,
 "nbformat_minor": 5
}
